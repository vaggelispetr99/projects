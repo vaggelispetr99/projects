{
 "cells": [
  {
   "cell_type": "code",
   "execution_count": 1,
   "id": "998a4883",
   "metadata": {},
   "outputs": [],
   "source": [
    "import datetime\n",
    "import pandas as pd\n",
    "import matplotlib.pyplot as plt\n",
    "import numpy as np\n",
    "import plotly.tools as tls\n",
    "import plotly.graph_objs as go\n",
    "from tensorflow.keras.models import Sequential\n",
    "from tensorflow.keras.layers import GRU, Dense, LSTM, TimeDistributed, Conv1D, MaxPooling1D, Flatten\n",
    "from sklearn.preprocessing import MinMaxScaler\n",
    "from influxdb_client import InfluxDBClient\n",
    "import optuna\n",
    "import anvil.server\n",
    "import anvil.media"
   ]
  },
  {
   "cell_type": "code",
   "execution_count": 2,
   "id": "c9eacd3f",
   "metadata": {},
   "outputs": [
    {
     "name": "stdout",
     "output_type": "stream",
     "text": [
      "Connecting to wss://anvil.works/uplink\n",
      "Anvil websocket open\n",
      "Connected to \"Default Environment\" as SERVER\n"
     ]
    }
   ],
   "source": [
    "anvil.server.connect(\"server_MI4VVJ5RM3X245Z3KNPIKZNY-5BPUVYDAD77UUJVI\")"
   ]
  },
  {
   "cell_type": "code",
   "execution_count": 3,
   "id": "7db3ff7e",
   "metadata": {},
   "outputs": [],
   "source": [
    "@anvil.server.callable\n",
    "def get_data(range_fetch_data):\n",
    "    # Connection details\n",
    "    url = 'http://192.168.7.90:8086'\n",
    "    token = '7cdJZe84FUVh8bWKZ0uAV6VH1vcw5k4PM8Pvv_5EpsScmhU_A5ZaXSwvIp4vgWb6m222k6qghwTl8IOCZDVxFw=='\n",
    "    org = 'UoA'\n",
    "    start_time = '-' + range_fetch_data + 'm'\n",
    "    # Connect to the InfluxDB instance\n",
    "    client = InfluxDBClient(url=url, token=token, org=org)\n",
    "    query_api = client.query_api()\n",
    "    query ='from(bucket: \"telegraf\")\\\n",
    "    |> range(start: ' + start_time + ', stop: now())\\\n",
    "    |> filter(fn: (r) => r._measurement == \"node_cpu_seconds_total\")\\\n",
    "    |> filter(fn: (r) => r._field == \"counter\")\\\n",
    "    |> filter(fn: (r) => r.url == \"http://192.168.8.133:9100/metrics\")\\\n",
    "    |> filter(fn: (r) => r.mode == \"softirq\")\\\n",
    "    |> derivative(unit: 1s, nonNegative: false)\\\n",
    "    |> keep(columns: [\"_time\", \"_measurement\", \"_value\"])\\\n",
    "    |> rename(columns: {_value: \"load1\", _time: \"Time\"})\\\n",
    "    |> pivot(rowKey:[\"Time\"], columnKey: [\"_measurement\"], valueColumn: \"load1\")'\n",
    "    result = query_api.query_data_frame(org=org, query=query)\n",
    "    result['Time'] = result['Time'].astype(str)\n",
    "    result['Time'] = result['Time'].str.split('+').str[0] \n",
    "    result['Time'] = pd.to_datetime(result['Time'])\n",
    "    result.index = result['Time']\n",
    "    result = result.drop(columns = ['result', 'table', 'Time'])\n",
    "    query_1 ='from(bucket: \"telegraf\")\\\n",
    "    |> range(start: ' + start_time + ', stop: now())\\\n",
    "    |> filter(fn: (r) => r._measurement == \"node_network_receive_bytes_total\")\\\n",
    "    |> filter(fn: (r) => r._field == \"counter\")\\\n",
    "    |> filter(fn: (r) => r.url == \"http://192.168.8.133:9100/metrics\")\\\n",
    "    |> filter(fn: (r) => r.device == \"upfgtp\")\\\n",
    "    |> derivative(unit: 1s, nonNegative: false)\\\n",
    "    |> keep(columns: [\"_time\", \"_measurement\", \"_value\"])\\\n",
    "    |> rename(columns: {_value: \"load1\", _time: \"Time\"})\\\n",
    "    |> pivot(rowKey:[\"Time\"], columnKey: [\"_measurement\"], valueColumn: \"load1\")'\n",
    "    result_1 = query_api.query_data_frame(org=org, query=query_1)\n",
    "    result_1['Time'] = result_1['Time'].astype(str)\n",
    "    result_1['Time'] = result_1['Time'].str.split('+').str[0] \n",
    "    result_1['Time'] = pd.to_datetime(result_1['Time'])\n",
    "    result_1.index = result_1['Time']\n",
    "    result_1 = result_1.drop(columns = ['result', 'table', 'Time'])\n",
    "    result['node_network_receive_bytes_total'] = result_1['node_network_receive_bytes_total']\n",
    "    result = result.to_json(orient='index')\n",
    "    client.close()\n",
    "    return result"
   ]
  },
  {
   "cell_type": "code",
   "execution_count": 8,
   "id": "6d86af9e",
   "metadata": {},
   "outputs": [],
   "source": [
    "@anvil.server.callable\n",
    "def objective(trial, prediction_model, X_train, y_train, X_valid, y_valid, T, HORIZON):\n",
    "    # Define the search space for hyperparameters\n",
    "    units = trial.suggest_categorical('units', [50, 100, 200])\n",
    "    activation = trial.suggest_categorical('activation', ['relu', 'tanh'])\n",
    "    epochs = trial.suggest_categorical('epochs', [100, 200])\n",
    "    optimizer = trial.suggest_categorical('optimizer', ['adam', 'sgd', 'RMSprop'])\n",
    "    batch_size = trial.suggest_categorical('batch_size', [32, 64, 128])\n",
    "    model = Sequential()\n",
    "    if prediction_model == 'GRU':\n",
    "        model.add(GRU(units = units, input_shape = (T, 1), activation = activation))\n",
    "    elif prediction_model == 'LSTM':\n",
    "        model.add(LSTM(units = units, input_shape = (T, 1), activation = activation))\n",
    "    elif prediction_model == 'CNN':\n",
    "        model.add(Conv1D(64, 1, activation=activation, input_shape=(T, 1)))\n",
    "        model.add(MaxPooling1D())\n",
    "        model.add(Flatten())\n",
    "        model.add(Dense(units = units, activation=activation))\n",
    "    elif prediction_model == 'MLP':\n",
    "        model.add(Dense(units = units, activation=activation, input_dim=T))\n",
    "    model.add(Dense(int(HORIZON)))\n",
    "    model.compile(optimizer = optimizer, loss = 'mse', metrics=['accuracy'])\n",
    "    model.summary() \n",
    "    model_fit = model.fit(X_train, y_train, batch_size = batch_size, epochs = epochs, validation_data = (X_valid, y_valid), verbose = 0)\n",
    "    # Evaluate the model accuracy on the validation set.\n",
    "    score = model_fit.history['val_loss'][-1]\n",
    "    return score"
   ]
  },
  {
   "cell_type": "code",
   "execution_count": 9,
   "id": "fadcfa89",
   "metadata": {},
   "outputs": [],
   "source": [
    "@anvil.server.callable\n",
    "def model_optimized(prediction_model, units, activation, epochs, optimizer, batch_size, X_train, y_train, X_valid, y_valid, T, HORIZON):\n",
    "    model = Sequential()\n",
    "    if prediction_model == 'GRU':\n",
    "        model.add(GRU(units = units, input_shape = (T, 1), activation = activation))\n",
    "    elif prediction_model == 'LSTM':\n",
    "        model.add(LSTM(units = units, input_shape = (T, 1), activation = activation))\n",
    "    elif prediction_model == 'CNN':\n",
    "        model.add(Conv1D(64, 1, activation=activation, input_shape=(T, 1)))\n",
    "        model.add(MaxPooling1D())\n",
    "        model.add(Flatten())\n",
    "        model.add(Dense(units = units, activation=activation))\n",
    "    elif prediction_model == 'MLP':\n",
    "        model.add(Dense(units = units, activation=activation, input_dim=T))\n",
    "    model.add(Dense(int(HORIZON)))\n",
    "    model.compile(optimizer = optimizer, loss = 'mse', metrics=['accuracy'])\n",
    "    model.summary() \n",
    "    model_fit = model.fit(X_train, y_train, batch_size = batch_size, epochs = epochs, validation_data = (X_valid, y_valid), verbose = 0)\n",
    "    return model, model_fit"
   ]
  },
  {
   "cell_type": "code",
   "execution_count": 10,
   "id": "73ee8576",
   "metadata": {},
   "outputs": [
    {
     "name": "stderr",
     "output_type": "stream",
     "text": [
      "[I 2023-07-13 02:47:25,298] A new study created in memory with name: no-name-795f3ba3-01aa-41aa-92af-03255daf06af\n"
     ]
    },
    {
     "name": "stdout",
     "output_type": "stream",
     "text": [
      "Model: \"sequential\"\n",
      "_________________________________________________________________\n",
      " Layer (type)                Output Shape              Param #   \n",
      "=================================================================\n",
      " gru (GRU)                   (None, 200)               121800    \n",
      "                                                                 \n",
      " dense (Dense)               (None, 1)                 201       \n",
      "                                                                 \n",
      "=================================================================\n",
      "Total params: 122,001\n",
      "Trainable params: 122,001\n",
      "Non-trainable params: 0\n",
      "_________________________________________________________________\n"
     ]
    },
    {
     "name": "stderr",
     "output_type": "stream",
     "text": [
      "[I 2023-07-13 02:47:59,806] Trial 0 finished with value: 0.01156475581228733 and parameters: {'units': 200, 'activation': 'tanh', 'epochs': 200, 'optimizer': 'sgd', 'batch_size': 128}. Best is trial 0 with value: 0.01156475581228733.\n"
     ]
    },
    {
     "name": "stdout",
     "output_type": "stream",
     "text": [
      "Model: \"sequential_1\"\n",
      "_________________________________________________________________\n",
      " Layer (type)                Output Shape              Param #   \n",
      "=================================================================\n",
      " gru_1 (GRU)                 (None, 100)               30900     \n",
      "                                                                 \n",
      " dense_1 (Dense)             (None, 1)                 101       \n",
      "                                                                 \n",
      "=================================================================\n",
      "Total params: 31,001\n",
      "Trainable params: 31,001\n",
      "Non-trainable params: 0\n",
      "_________________________________________________________________\n"
     ]
    },
    {
     "name": "stderr",
     "output_type": "stream",
     "text": [
      "[I 2023-07-13 02:48:26,964] Trial 1 finished with value: 0.009596362709999084 and parameters: {'units': 100, 'activation': 'tanh', 'epochs': 100, 'optimizer': 'sgd', 'batch_size': 32}. Best is trial 1 with value: 0.009596362709999084.\n"
     ]
    },
    {
     "name": "stdout",
     "output_type": "stream",
     "text": [
      "Model: \"sequential_2\"\n",
      "_________________________________________________________________\n",
      " Layer (type)                Output Shape              Param #   \n",
      "=================================================================\n",
      " gru_2 (GRU)                 (None, 100)               30900     \n",
      "                                                                 \n",
      " dense_2 (Dense)             (None, 1)                 101       \n",
      "                                                                 \n",
      "=================================================================\n",
      "Total params: 31,001\n",
      "Trainable params: 31,001\n",
      "Non-trainable params: 0\n",
      "_________________________________________________________________\n",
      "6/6 [==============================] - 1s 5ms/step\n"
     ]
    },
    {
     "name": "stderr",
     "output_type": "stream",
     "text": [
      "C:\\ProgramData\\Anaconda3\\lib\\site-packages\\plotly\\matplotlylib\\renderer.py:611: UserWarning:\n",
      "\n",
      "I found a path object that I don't think is part of a bar chart. Ignoring.\n",
      "\n",
      "[I 2023-07-13 02:49:05,385] A new study created in memory with name: no-name-3520695a-e3c8-4ebb-aa6d-5e2c063239d7\n"
     ]
    },
    {
     "name": "stdout",
     "output_type": "stream",
     "text": [
      "Model: \"sequential\"\n",
      "_________________________________________________________________\n",
      " Layer (type)                Output Shape              Param #   \n",
      "=================================================================\n",
      " lstm (LSTM)                 (None, 100)               40800     \n",
      "                                                                 \n",
      " dense (Dense)               (None, 1)                 101       \n",
      "                                                                 \n",
      "=================================================================\n",
      "Total params: 40,901\n",
      "Trainable params: 40,901\n",
      "Non-trainable params: 0\n",
      "_________________________________________________________________\n"
     ]
    },
    {
     "name": "stderr",
     "output_type": "stream",
     "text": [
      "[I 2023-07-13 02:49:34,507] Trial 0 finished with value: 0.009507288224995136 and parameters: {'units': 100, 'activation': 'relu', 'epochs': 200, 'optimizer': 'RMSprop', 'batch_size': 128}. Best is trial 0 with value: 0.009507288224995136.\n"
     ]
    },
    {
     "name": "stdout",
     "output_type": "stream",
     "text": [
      "Model: \"sequential_1\"\n",
      "_________________________________________________________________\n",
      " Layer (type)                Output Shape              Param #   \n",
      "=================================================================\n",
      " lstm_1 (LSTM)               (None, 50)                10400     \n",
      "                                                                 \n",
      " dense_1 (Dense)             (None, 1)                 51        \n",
      "                                                                 \n",
      "=================================================================\n",
      "Total params: 10,451\n",
      "Trainable params: 10,451\n",
      "Non-trainable params: 0\n",
      "_________________________________________________________________\n"
     ]
    },
    {
     "name": "stderr",
     "output_type": "stream",
     "text": [
      "[I 2023-07-13 02:49:49,761] Trial 1 finished with value: 0.009487790055572987 and parameters: {'units': 50, 'activation': 'relu', 'epochs': 100, 'optimizer': 'adam', 'batch_size': 64}. Best is trial 1 with value: 0.009487790055572987.\n"
     ]
    },
    {
     "name": "stdout",
     "output_type": "stream",
     "text": [
      "Model: \"sequential_2\"\n",
      "_________________________________________________________________\n",
      " Layer (type)                Output Shape              Param #   \n",
      "=================================================================\n",
      " lstm_2 (LSTM)               (None, 50)                10400     \n",
      "                                                                 \n",
      " dense_2 (Dense)             (None, 1)                 51        \n",
      "                                                                 \n",
      "=================================================================\n",
      "Total params: 10,451\n",
      "Trainable params: 10,451\n",
      "Non-trainable params: 0\n",
      "_________________________________________________________________\n",
      "6/6 [==============================] - 0s 4ms/step\n"
     ]
    },
    {
     "name": "stderr",
     "output_type": "stream",
     "text": [
      "C:\\ProgramData\\Anaconda3\\lib\\site-packages\\plotly\\matplotlylib\\renderer.py:611: UserWarning:\n",
      "\n",
      "I found a path object that I don't think is part of a bar chart. Ignoring.\n",
      "\n",
      "[I 2023-07-13 02:50:24,053] A new study created in memory with name: no-name-b6fb0175-4f5c-4338-b00f-0ca9097b3b5c\n"
     ]
    },
    {
     "name": "stdout",
     "output_type": "stream",
     "text": [
      "Model: \"sequential\"\n",
      "_________________________________________________________________\n",
      " Layer (type)                Output Shape              Param #   \n",
      "=================================================================\n",
      " dense (Dense)               (None, 50)                150       \n",
      "                                                                 \n",
      " dense_1 (Dense)             (None, 1)                 51        \n",
      "                                                                 \n",
      "=================================================================\n",
      "Total params: 201\n",
      "Trainable params: 201\n",
      "Non-trainable params: 0\n",
      "_________________________________________________________________\n"
     ]
    },
    {
     "name": "stderr",
     "output_type": "stream",
     "text": [
      "[I 2023-07-13 02:50:48,674] Trial 0 finished with value: 0.010745291598141193 and parameters: {'units': 50, 'activation': 'tanh', 'epochs': 200, 'optimizer': 'sgd', 'batch_size': 128}. Best is trial 0 with value: 0.010745291598141193.\n"
     ]
    },
    {
     "name": "stdout",
     "output_type": "stream",
     "text": [
      "Model: \"sequential_1\"\n",
      "_________________________________________________________________\n",
      " Layer (type)                Output Shape              Param #   \n",
      "=================================================================\n",
      " dense_2 (Dense)             (None, 50)                150       \n",
      "                                                                 \n",
      " dense_3 (Dense)             (None, 1)                 51        \n",
      "                                                                 \n",
      "=================================================================\n",
      "Total params: 201\n",
      "Trainable params: 201\n",
      "Non-trainable params: 0\n",
      "_________________________________________________________________\n"
     ]
    },
    {
     "name": "stderr",
     "output_type": "stream",
     "text": [
      "[I 2023-07-13 02:51:13,741] Trial 1 finished with value: 0.009146040305495262 and parameters: {'units': 50, 'activation': 'relu', 'epochs': 200, 'optimizer': 'RMSprop', 'batch_size': 32}. Best is trial 1 with value: 0.009146040305495262.\n"
     ]
    },
    {
     "name": "stdout",
     "output_type": "stream",
     "text": [
      "Model: \"sequential_2\"\n",
      "_________________________________________________________________\n",
      " Layer (type)                Output Shape              Param #   \n",
      "=================================================================\n",
      " dense_4 (Dense)             (None, 50)                150       \n",
      "                                                                 \n",
      " dense_5 (Dense)             (None, 1)                 51        \n",
      "                                                                 \n",
      "=================================================================\n",
      "Total params: 201\n",
      "Trainable params: 201\n",
      "Non-trainable params: 0\n",
      "_________________________________________________________________\n",
      "6/6 [==============================] - 0s 3ms/step\n"
     ]
    },
    {
     "name": "stderr",
     "output_type": "stream",
     "text": [
      "C:\\ProgramData\\Anaconda3\\lib\\site-packages\\plotly\\matplotlylib\\renderer.py:611: UserWarning:\n",
      "\n",
      "I found a path object that I don't think is part of a bar chart. Ignoring.\n",
      "\n",
      "[I 2023-07-13 02:52:11,022] A new study created in memory with name: no-name-7389c82b-1e95-4e5a-8f31-783f9d9558a6\n"
     ]
    },
    {
     "name": "stdout",
     "output_type": "stream",
     "text": [
      "Model: \"sequential\"\n",
      "_________________________________________________________________\n",
      " Layer (type)                Output Shape              Param #   \n",
      "=================================================================\n",
      " conv1d (Conv1D)             (None, 2, 64)             128       \n",
      "                                                                 \n",
      " max_pooling1d (MaxPooling1D  (None, 1, 64)            0         \n",
      " )                                                               \n",
      "                                                                 \n",
      " flatten (Flatten)           (None, 64)                0         \n",
      "                                                                 \n",
      " dense (Dense)               (None, 50)                3250      \n",
      "                                                                 \n",
      " dense_1 (Dense)             (None, 1)                 51        \n",
      "                                                                 \n",
      "=================================================================\n",
      "Total params: 3,429\n",
      "Trainable params: 3,429\n",
      "Non-trainable params: 0\n",
      "_________________________________________________________________\n"
     ]
    },
    {
     "name": "stderr",
     "output_type": "stream",
     "text": [
      "[I 2023-07-13 02:52:30,858] Trial 0 finished with value: 0.01082661934196949 and parameters: {'units': 50, 'activation': 'relu', 'epochs': 200, 'optimizer': 'adam', 'batch_size': 128}. Best is trial 0 with value: 0.01082661934196949.\n"
     ]
    },
    {
     "name": "stdout",
     "output_type": "stream",
     "text": [
      "Model: \"sequential_1\"\n",
      "_________________________________________________________________\n",
      " Layer (type)                Output Shape              Param #   \n",
      "=================================================================\n",
      " conv1d_1 (Conv1D)           (None, 2, 64)             128       \n",
      "                                                                 \n",
      " max_pooling1d_1 (MaxPooling  (None, 1, 64)            0         \n",
      " 1D)                                                             \n",
      "                                                                 \n",
      " flatten_1 (Flatten)         (None, 64)                0         \n",
      "                                                                 \n",
      " dense_2 (Dense)             (None, 200)               13000     \n",
      "                                                                 \n",
      " dense_3 (Dense)             (None, 1)                 201       \n",
      "                                                                 \n",
      "=================================================================\n",
      "Total params: 13,329\n",
      "Trainable params: 13,329\n",
      "Non-trainable params: 0\n",
      "_________________________________________________________________\n"
     ]
    },
    {
     "name": "stderr",
     "output_type": "stream",
     "text": [
      "[I 2023-07-13 02:52:46,805] Trial 1 finished with value: 0.010789381340146065 and parameters: {'units': 200, 'activation': 'relu', 'epochs': 100, 'optimizer': 'adam', 'batch_size': 32}. Best is trial 1 with value: 0.010789381340146065.\n"
     ]
    },
    {
     "name": "stdout",
     "output_type": "stream",
     "text": [
      "Model: \"sequential_2\"\n",
      "_________________________________________________________________\n",
      " Layer (type)                Output Shape              Param #   \n",
      "=================================================================\n",
      " conv1d_2 (Conv1D)           (None, 2, 64)             128       \n",
      "                                                                 \n",
      " max_pooling1d_2 (MaxPooling  (None, 1, 64)            0         \n",
      " 1D)                                                             \n",
      "                                                                 \n",
      " flatten_2 (Flatten)         (None, 64)                0         \n",
      "                                                                 \n",
      " dense_4 (Dense)             (None, 200)               13000     \n",
      "                                                                 \n",
      " dense_5 (Dense)             (None, 1)                 201       \n",
      "                                                                 \n",
      "=================================================================\n",
      "Total params: 13,329\n",
      "Trainable params: 13,329\n",
      "Non-trainable params: 0\n",
      "_________________________________________________________________\n",
      "6/6 [==============================] - 0s 3ms/step\n"
     ]
    },
    {
     "name": "stderr",
     "output_type": "stream",
     "text": [
      "C:\\ProgramData\\Anaconda3\\lib\\site-packages\\plotly\\matplotlylib\\renderer.py:611: UserWarning:\n",
      "\n",
      "I found a path object that I don't think is part of a bar chart. Ignoring.\n",
      "\n"
     ]
    }
   ],
   "source": [
    "@anvil.server.callable\n",
    "def time_series_prediction_with_data_new(prediction_model, column, json_data):\n",
    "    df = pd.read_json(json_data, orient='index')    \n",
    "    if column == 'node_cpu_seconds_total':\n",
    "        df = df.drop(columns = ['node_network_receive_bytes_total'])\n",
    "        data_set_selection = 'node_cpu_seconds_total'\n",
    "    elif column == 'node_network_receive_bytes_total':\n",
    "        df = df.drop(columns = ['node_cpu_seconds_total'])\n",
    "        data_set_selection = 'node_network_receive_bytes_total'\n",
    "    length_df = len(df)\n",
    "    train_rows = int(0.7*length_df)\n",
    "    valid_rows = int(0.1*length_df)\n",
    "    test_rows = length_df - train_rows - valid_rows\n",
    "    train = df.copy()[:train_rows]\n",
    "    train_rows_new = train_rows + 1\n",
    "    valid = df.copy()[train_rows:train_rows + valid_rows]\n",
    "    test = df.copy()[train_rows + valid_rows:]\n",
    "    scaler = MinMaxScaler()\n",
    "    train[data_set_selection] = scaler.fit_transform(train)\n",
    "    valid[data_set_selection] = scaler.fit_transform(valid)\n",
    "    test[data_set_selection] = scaler.fit_transform(test)\n",
    "    T = 2 # Let the input be a vector of the previous 12 seconds of the values.\n",
    "    HORIZON = 1 # one-step-ahead prediction\n",
    "    train_shifted = train.copy()\n",
    "    train_shifted['y_t+1'] = train_shifted[data_set_selection].shift(-1, freq = '6s')\n",
    "    for t in range(1, T+1):\n",
    "        train_shifted[str(T-t)] = train_shifted[data_set_selection].shift(T-t, freq = '6s')\n",
    "    y_col = 'y_t+1'\n",
    "    X_cols = []\n",
    "    for i in range(-T+1, 1):\n",
    "        if i != 0:\n",
    "            X_cols.append('t{}'.format(i))\n",
    "        else:\n",
    "            X_cols.append('t')\n",
    "    train_shifted.columns = ['original'] + [y_col] + X_cols\n",
    "    train_shifted = train_shifted.dropna(how = 'any')\n",
    "    y_train = np.array(train_shifted[y_col]) \n",
    "    X_train = np.array(train_shifted[X_cols])\n",
    "    X_train = X_train.reshape(X_train.shape[0], T, 1)\n",
    "    valid_shifted = valid.copy()\n",
    "    test_shifted = test.copy()\n",
    "    valid_shifted['y_t+1'] = valid_shifted[data_set_selection].shift(-1, freq = '6s')\n",
    "    test_shifted['y_t+1'] = test_shifted[data_set_selection].shift(-1, freq = '6s')\n",
    "    for t in range(1, T+1):\n",
    "        valid_shifted[str(T-t)] = valid_shifted[data_set_selection].shift(T-t, freq = '6s')\n",
    "    for t in range(1, T+1):\n",
    "        test_shifted[str(T-t)] = test_shifted[data_set_selection].shift(T-t, freq = '6s')\n",
    "    valid_shifted.columns = ['original'] + [y_col] + X_cols\n",
    "    test_shifted.columns = ['original'] + [y_col] + X_cols\n",
    "    valid_shifted = valid_shifted.dropna(how = 'any')\n",
    "    test_shifted = test_shifted.dropna(how = 'any')\n",
    "    y_valid = np.array(valid_shifted[y_col])\n",
    "    y_test = np.array(test_shifted[y_col])\n",
    "    X_valid = np.array(valid_shifted[X_cols])\n",
    "    X_test = np.array(test_shifted[X_cols])\n",
    "    X_valid = X_valid.reshape(X_valid.shape[0], T, 1)\n",
    "    X_test = X_test.reshape(X_test.shape[0], T, 1)\n",
    "    func = lambda trial: objective(trial, prediction_model, X_train, y_train, X_valid, y_valid, T, HORIZON)\n",
    "    study = optuna.create_study(direction=\"minimize\")\n",
    "    study.optimize(func, n_trials=108, timeout=None)\n",
    "    trial = study.best_trial\n",
    "    units = trial.params['units']\n",
    "    activation = trial.params['activation']\n",
    "    epochs = trial.params['epochs']\n",
    "    optimizer = trial.params['optimizer']\n",
    "    batch_size = trial.params['batch_size']\n",
    "    model, model_fit = model_optimized(prediction_model, units, activation, epochs, optimizer, batch_size, X_train, y_train, X_valid, y_valid, T, HORIZON)\n",
    "    predictions = model.predict(X_test)\n",
    "    #valid_loss\n",
    "    val_loss = model_fit.history['val_loss'][-1]\n",
    "    val_loss_ui= 'Validation evaluation--> ' + 'Validation_Loss: ' + str(val_loss*100) + '%'\n",
    "    best_parameters = 'Optimized Parameters--> ' + 'Units: ' + str(units) + ',   Activation Function: ' + str(activation) + ',   Epochs: ' + str(epochs) + ',   Optimizer: ' + str(optimizer) + ',   Batch Size: ' + str(batch_size)\n",
    "    test_predicted_df = pd.DataFrame(predictions, columns = ['t+' + str(t) for t in range(1, int(HORIZON) + 1)])\n",
    "    test_predicted_df['Time'] = test_shifted.index\n",
    "    test_predicted_df = pd.melt(test_predicted_df, id_vars = 'Time', value_name = 'predicted', var_name = 'h')\n",
    "    test_predicted_df['test'] = np.transpose(y_test).ravel()\n",
    "    test_predicted_df[['predicted', 'test']] = scaler.inverse_transform(test_predicted_df[['predicted', 'test']])\n",
    "    train_df = pd.DataFrame()\n",
    "    train_df['Time'] = train_shifted.index\n",
    "    train_df['train'] = np.transpose(y_train).ravel()\n",
    "    train_df[['train']] = scaler.inverse_transform(train_df[['train']])\n",
    "    valid_df = pd.DataFrame()\n",
    "    valid_df['Time'] = valid_shifted.index\n",
    "    valid_df['valid'] = np.transpose(y_valid).ravel()\n",
    "    valid_df[['valid']] = scaler.inverse_transform(valid_df[['valid']])\n",
    "    fig, ax = plt.subplots()\n",
    "    ax.plot(test_predicted_df['Time'], test_predicted_df['predicted'],'--r', label = 'predicted')\n",
    "    ax.plot(test_predicted_df['Time'], test_predicted_df['test'],'-b', label = 'test')\n",
    "    ax.plot(train_df['Time'], train_df['train'],'-y', label = 'train')\n",
    "    ax.plot(valid_df['Time'], valid_df['valid'],'-y', label = 'train')\n",
    "    plt.legend()\n",
    "    plt.ylabel(data_set_selection)\n",
    "    plt.xlabel('Time')\n",
    "    plotly_fig = tls.mpl_to_plotly(fig)\n",
    "    data = plotly_fig['data'][0]\n",
    "    data1 = plotly_fig['data'][1]\n",
    "    data2 = plotly_fig['data'][2]\n",
    "    data3 = plotly_fig['data'][3]\n",
    "    plot_predicted = go.Scatter(x=data['x'], y=data['y'], mode='lines', name = 'predicted')\n",
    "    plot_test = go.Scatter(x=data1['x'], y= data1['y'], mode='lines', name = 'test')\n",
    "    plot_train = go.Scatter(x=data2['x'], y= data2['y'], mode='lines', name = 'train')\n",
    "    plot_valid = go.Scatter(x=data3['x'], y= data3['y'], mode='lines', name = 'valid')\n",
    "    return plot_predicted, plot_test, plot_train, plot_valid, val_loss_ui, best_parameters"
   ]
  }
 ],
 "metadata": {
  "kernelspec": {
   "display_name": "Python 3 (ipykernel)",
   "language": "python",
   "name": "python3"
  },
  "language_info": {
   "codemirror_mode": {
    "name": "ipython",
    "version": 3
   },
   "file_extension": ".py",
   "mimetype": "text/x-python",
   "name": "python",
   "nbconvert_exporter": "python",
   "pygments_lexer": "ipython3",
   "version": "3.9.13"
  }
 },
 "nbformat": 4,
 "nbformat_minor": 5
}
